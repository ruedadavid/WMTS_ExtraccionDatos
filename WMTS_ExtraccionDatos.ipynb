{
 "cells": [
  {
   "cell_type": "markdown",
   "metadata": {},
   "source": [
    "# Extracción de datos desde Servicios Web de Mapas -WMTS-\n",
    "\n",
    "Maestría Ciencias de Información y las Comunicaciones - Materia: Servicios Web Geográficos.\n",
    "\n",
    "Por: David Alonso Rueda Rodríguez - 20181395007 (daruedar@correo.udistrital.edu.co)\n",
    "\n",
    "Tema: WMTS."
   ]
  },
  {
   "cell_type": "markdown",
   "metadata": {},
   "source": [
    "#### Objetivos de la actividad:\n",
    "\n",
    "1. Extraer listado de capas disponible en sitio WMTS utilizando la librería OwsLib.\n",
    "2. Extraer las operaciones soportadas por el servicio WMTS\n",
    "\n",
    "#### Dependencias:\n",
    "\n",
    "1. Se requieren las librerías:\n",
    "\n",
    "1.1. OWSLib\n",
    "1.2. Esta librería requiere la librería lxml\n",
    "\n",
    "#### Contenido\n",
    "\n",
    "1. Extracción Listado de capas del servicio WMTS\n",
    "2. Operaciones Soportadas por servicio WMTS\n",
    "\n",
    "#### Listado de versiones\n",
    "\n",
    "1.0.0 Preparación de la funcionalidad básica para extracción de capas de un servicio WMTS\n"
   ]
  },
  {
   "cell_type": "code",
   "execution_count": 1,
   "metadata": {},
   "outputs": [
    {
     "name": "stderr",
     "output_type": "stream",
     "text": [
      "/usr/lib/python3/dist-packages/requests/__init__.py:80: RequestsDependencyWarning: urllib3 (1.22) or chardet (2.3.0) doesn't match a supported version!\n",
      "  RequestsDependencyWarning)\n"
     ]
    }
   ],
   "source": [
    "# Importar librería principal\n",
    "from owslib.wmts import WebMapTileService\n",
    "import pandas as pd\n",
    "# Función para extraer nombre de capa y cuadro de coordenadas desde un servicio WMS\n",
    "def WMTS_Capas(url):\n",
    "    # Asignación de los datos del servicio\n",
    "    wmts = WebMapTileService(url=url)\n",
    "    # Obtener las capas disponibles del servicio\n",
    "    Capas_wmts = wmts.contents    \n",
    "    listado_capas = list(Capas_wmts)\n",
    "    # Ciclo para extraer los datos de interés desde los respectivos nodos\n",
    "    for capa in listado_capas:\n",
    "        tupla = Capas_wmts.get(capa).boundingBoxWGS84        \n",
    "        print ('- {};{};{};{};{};' .format(Capas_wmts.get(capa).title,tupla[0],tupla[1],tupla[2],tupla[3]))"
   ]
  },
  {
   "cell_type": "markdown",
   "metadata": {},
   "source": [
    "### Prueba con uno de los servicios"
   ]
  },
  {
   "cell_type": "code",
   "execution_count": 2,
   "metadata": {},
   "outputs": [
    {
     "name": "stdout",
     "output_type": "stream",
     "text": [
      "- PRECIPITACION;0.0;0.0;-1.0;-1.0;\n",
      "- FALLAS;0.0;0.0;-1.0;-1.0;\n",
      "- Títulos Mineros La Muriel;0.0;0.0;-1.0;-1.0;\n",
      "- Fincas_CACAo0;0.0;0.0;-1.0;-1.0;\n",
      "- Humedales RAMSAR;0.0;0.0;-1.0;-1.0;\n",
      "- Comunidades Negras;0.0;0.0;-1.0;-1.0;\n",
      "- Escenario Amenaza AvenidasTorrenciales;0.0;0.0;-1.0;-1.0;\n",
      "- Fincas_CACAo;0.0;0.0;-1.0;-1.0;\n",
      "- HS CuencaHumea;-73.65885380999424;4.114265013626515;-72.86840488203556;4.683193889767885;\n",
      "- Reguardos Indígenas;0.0;0.0;-1.0;-1.0;\n",
      "- AMENAZA_REMOCIÓN_MASA;0.0;0.0;-1.0;-1.0;\n",
      "- COBERTURA;0.0;0.0;-1.0;-1.0;\n",
      "- CLASE_SUELO;0.0;0.0;-1.0;-1.0;\n",
      "- Murindó Geologia LLMS;0.0;0.0;-1.0;-1.0;\n",
      "- Escenario Amenaza Inundación;0.0;0.0;-1.0;-1.0;\n",
      "- Departamentos de Colombia;0.0;0.0;-1.0;-1.0;\n",
      "- Raster_Valores_Suelo;-74.162394572;4.658014945;-74.07879562;4.741282155;\n",
      "- Escenario Amenaza Movimento Masa;0.0;0.0;-1.0;-1.0;\n",
      "- Muestreo_valor_Suelo;0.0;0.0;-1.0;-1.0;\n",
      "- Murindo_Hillshade_LLMS;-77.00511720179772;6.560074716157355;-76.25645708972938;7.207956690417046;\n",
      "- IndiceAmbienteCritico0;0.0;0.0;-1.0;-1.0;\n",
      "- TIPO_RELIEVE;0.0;0.0;-1.0;-1.0;\n",
      "- Reserva Forestal Ley 2da de 1959;0.0;0.0;-1.0;-1.0;\n",
      "- Valor_Ref_2018;0.0;0.0;-1.0;-1.0;\n",
      "- Indicador Tasa de Cambio;0.0;0.0;-1.0;-1.0;\n",
      "- Indicador Vegetación Remanente;0.0;0.0;-1.0;-1.0;\n",
      "- CACAO_PROJECT;0.0;0.0;-1.0;-1.0;\n",
      "- Indice Fragmentacion;0.0;0.0;-1.0;-1.0;\n",
      "- DEM municipio de Caqueza;-74.00231737904146;4.3310615358826;-73.86909256369553;4.462984600659214;\n",
      "- Áreas Importancia Ambiental;0.0;0.0;-1.0;-1.0;\n",
      "- Modelo Digital de Superficie Murindo;-77.00511720179772;6.560074716157355;-76.25645708972938;7.207956690417046;\n",
      "- PENDIENTE_CAQUEZA;0.0;0.0;-1.0;-1.0;\n"
     ]
    }
   ],
   "source": [
    "# Declaración del sitio a visitar\n",
    "paginaweb = 'http://13.59.2.251/geoserver/gwc/service/wmts?'\n",
    "# Llamado de función que consulta los datos de interés\n",
    "WMTS_Capas(paginaweb)"
   ]
  },
  {
   "cell_type": "markdown",
   "metadata": {},
   "source": [
    "### Extracción de datos desde todos los servicios"
   ]
  },
  {
   "cell_type": "markdown",
   "metadata": {},
   "source": [
    "## 2. Operaciones soportadas por el servicio\n"
   ]
  },
  {
   "cell_type": "code",
   "execution_count": 22,
   "metadata": {},
   "outputs": [],
   "source": [
    "def operacionesWMTS(url):\n",
    "    from owslib.wmts import WebMapTileService\n",
    "    wmts = WebMapTileService(url)\n",
    "    operaciones = [op.name for op in wmts.operations]    \n",
    "    return operaciones"
   ]
  },
  {
   "cell_type": "code",
   "execution_count": 23,
   "metadata": {},
   "outputs": [
    {
     "name": "stdout",
     "output_type": "stream",
     "text": [
      "Operaciones Soportadas por el servicio: http://13.59.2.251/geoserver/gwc/service/wmts?\n",
      "\n",
      "- GetCapabilities\n",
      "- GetTile\n",
      "- GetFeatureInfo\n",
      "- DescribeDomains\n",
      "- GetDomainValues\n",
      "- GetFeature\n",
      "- GetHistogram\n"
     ]
    }
   ],
   "source": [
    "print(\"Operaciones Soportadas por el servicio: {}\\n\" .format(paginaweb))\n",
    "a =[print('- {}' .format(operacion)) for operacion in operacionesWMTS(paginaweb)]"
   ]
  }
 ],
 "metadata": {
  "kernelspec": {
   "display_name": "Python 3",
   "language": "python",
   "name": "python3"
  },
  "language_info": {
   "codemirror_mode": {
    "name": "ipython",
    "version": 3
   },
   "file_extension": ".py",
   "mimetype": "text/x-python",
   "name": "python",
   "nbconvert_exporter": "python",
   "pygments_lexer": "ipython3",
   "version": "3.6.8"
  }
 },
 "nbformat": 4,
 "nbformat_minor": 2
}
